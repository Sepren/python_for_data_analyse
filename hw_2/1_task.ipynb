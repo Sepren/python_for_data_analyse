{
  "nbformat": 4,
  "nbformat_minor": 0,
  "metadata": {
    "colab": {
      "provenance": []
    },
    "kernelspec": {
      "name": "python3",
      "display_name": "Python 3"
    },
    "language_info": {
      "name": "python"
    }
  },
  "cells": [
    {
      "cell_type": "code",
      "execution_count": null,
      "metadata": {
        "id": "VBXy8vJLwGQU"
      },
      "outputs": [],
      "source": [
        "class Chocolate:\n",
        "  def __init__(self, price: float, mocha: str):\n",
        "    self.price = price\n",
        "    self.mocha = mocha\n",
        "\n",
        "  def good_price(self):\n",
        "    try:\n",
        "      if self.price < 0:\n",
        "        raise ValueError()\n",
        "      return self.price\n",
        "    except ValueError:\n",
        "      print(\"Вы некорректно ввели цену\")\n",
        "\n",
        "  def show_my_chocolate(self):\n",
        "    if self.mocha != \"\":\n",
        "      return f\"Шоколадный батончик, добавка: {self.mocha}\"\n",
        "    else:\n",
        "      return \"Обычный шоколадный батончик\"\n",
        "\n",
        "  def __str__(self):\n",
        "    return f\"Шоколадный батончик, {self.price} рублей\""
      ]
    },
    {
      "cell_type": "code",
      "source": [
        "# 1 попытка\n",
        "bar = Chocolate(80, 'орех')\n",
        "print(bar)"
      ],
      "metadata": {
        "colab": {
          "base_uri": "https://localhost:8080/"
        },
        "id": "HcSUWXCU_mZO",
        "outputId": "ebb4992a-74f8-4cb6-addf-03c866504840"
      },
      "execution_count": null,
      "outputs": [
        {
          "output_type": "stream",
          "name": "stdout",
          "text": [
            "Шоколадный батончик, 80 рублей\n"
          ]
        }
      ]
    },
    {
      "cell_type": "code",
      "source": [
        "bar.good_price()"
      ],
      "metadata": {
        "colab": {
          "base_uri": "https://localhost:8080/"
        },
        "id": "SLohO8OuAIM9",
        "outputId": "633c4261-9465-4023-e10e-05e5b1730823"
      },
      "execution_count": null,
      "outputs": [
        {
          "output_type": "execute_result",
          "data": {
            "text/plain": [
              "80"
            ]
          },
          "metadata": {},
          "execution_count": 23
        }
      ]
    },
    {
      "cell_type": "code",
      "source": [
        "bar.show_my_chocolate()"
      ],
      "metadata": {
        "colab": {
          "base_uri": "https://localhost:8080/",
          "height": 36
        },
        "id": "0vMs7HqgAU2B",
        "outputId": "bac62811-a528-4876-c1ce-2c0fcbb1f842"
      },
      "execution_count": null,
      "outputs": [
        {
          "output_type": "execute_result",
          "data": {
            "text/plain": [
              "'Шоколадный батончик, добавка: орех'"
            ],
            "application/vnd.google.colaboratory.intrinsic+json": {
              "type": "string"
            }
          },
          "metadata": {},
          "execution_count": 24
        }
      ]
    },
    {
      "cell_type": "code",
      "source": [
        "# 2 попытка\n",
        "bar = Chocolate(70, \"\")\n",
        "print(bar)"
      ],
      "metadata": {
        "colab": {
          "base_uri": "https://localhost:8080/"
        },
        "id": "eELdcxFrA8gj",
        "outputId": "b7ca2da4-0f5f-4643-cbb7-20f4f9e22d1d"
      },
      "execution_count": null,
      "outputs": [
        {
          "output_type": "stream",
          "name": "stdout",
          "text": [
            "Шоколадный батончик, 70 рублей\n"
          ]
        }
      ]
    },
    {
      "cell_type": "code",
      "source": [
        "bar.good_price()"
      ],
      "metadata": {
        "colab": {
          "base_uri": "https://localhost:8080/"
        },
        "id": "Y9K9vhAFBaUM",
        "outputId": "ace6200e-7c80-4cc5-f942-b4d5c806d7c1"
      },
      "execution_count": null,
      "outputs": [
        {
          "output_type": "execute_result",
          "data": {
            "text/plain": [
              "70"
            ]
          },
          "metadata": {},
          "execution_count": 26
        }
      ]
    },
    {
      "cell_type": "code",
      "source": [
        "bar.show_my_chocolate()"
      ],
      "metadata": {
        "colab": {
          "base_uri": "https://localhost:8080/",
          "height": 36
        },
        "id": "2Fzrt7QrBbLd",
        "outputId": "018a2c75-0f38-42d5-db4c-8c1b3e7352a4"
      },
      "execution_count": null,
      "outputs": [
        {
          "output_type": "execute_result",
          "data": {
            "text/plain": [
              "'Обычный шоколадный батончик'"
            ],
            "application/vnd.google.colaboratory.intrinsic+json": {
              "type": "string"
            }
          },
          "metadata": {},
          "execution_count": 27
        }
      ]
    },
    {
      "cell_type": "code",
      "source": [
        "# 3 попытка\n",
        "bar = Chocolate(-60, \"\")\n",
        "print(bar)"
      ],
      "metadata": {
        "colab": {
          "base_uri": "https://localhost:8080/"
        },
        "id": "3uYxwAX8BdeY",
        "outputId": "7bc9be24-e383-4558-c89a-12bd51541609"
      },
      "execution_count": null,
      "outputs": [
        {
          "output_type": "stream",
          "name": "stdout",
          "text": [
            "Шоколадный батончик, -60 рублей\n"
          ]
        }
      ]
    },
    {
      "cell_type": "code",
      "source": [
        "bar.good_price()"
      ],
      "metadata": {
        "colab": {
          "base_uri": "https://localhost:8080/"
        },
        "id": "EUGin_6mCQeT",
        "outputId": "ab88ce45-6c22-4a73-f721-94943bdd8edf"
      },
      "execution_count": null,
      "outputs": [
        {
          "output_type": "stream",
          "name": "stdout",
          "text": [
            "Вы некорректно ввели цену\n"
          ]
        }
      ]
    },
    {
      "cell_type": "code",
      "source": [],
      "metadata": {
        "id": "yYWLU-nWCS9x"
      },
      "execution_count": null,
      "outputs": []
    }
  ]
}